{
 "cells": [
  {
   "cell_type": "markdown",
   "id": "cc63a80e-8bff-4188-825b-7d1f89fea5e6",
   "metadata": {},
   "source": [
    "# PILLS archival snapshot\n",
    "\n",
    "In this analysis, we will locate PILLS held by contracts on the Fantom DAG.\n",
    "\n",
    "This analysis occurs in the context of two other sets of findings:\n",
    "\n",
    "- a snapshot of PILLS address balances (obtained from the PILLS ERC-20 contract)\n",
    "- a snapshot of Neo Pools PILLS balances (obtained from Neo Pools contracts)\n",
    "\n",
    "The current analysis will examine Liquidity Pool contracts that hold PILLS on behalf of LP providers.\n",
    "Raw data were obtained by performing queries against a Fantom Full Archival RPC node."
   ]
  },
  {
   "cell_type": "code",
   "execution_count": 80,
   "id": "5d421f04-84d0-4217-869b-437c97deaae5",
   "metadata": {},
   "outputs": [],
   "source": [
    "import os\n",
    "import json\n",
    "import time\n",
    "from pprint import pprint\n",
    "from dotenv import load_dotenv\n",
    "import pandas as pd\n",
    "import web3\n",
    "\n",
    "load_dotenv(os.path.expanduser('~/Work/morpheus-swap/.env'))\n",
    "w3 = web3.Web3(web3.Web3.HTTPProvider(os.environ['RPC_URL']))\n",
    "\n",
    "# load ABIs for the contract methods we'll use\n",
    "with open(os.path.join(os.environ['DATA_PATH'], 'abis.json'), 'r') as f:\n",
    "    abis = json.load(f)"
   ]
  },
  {
   "cell_type": "markdown",
   "id": "554dc686-22a6-49d7-beb0-70a96509a492",
   "metadata": {},
   "source": [
    "## Contract details\n",
    "\n",
    "### PILLS\n",
    "\n",
    "The quantity of PILLS held by an address at the time of the snapshot can be queried with the PILLS ERC-20 `balanceOf()` method.\n",
    "\n",
    "- ERC-20:\n",
    "    - 0xB66b5D38E183De42F21e92aBcAF3c712dd5d6286\n",
    "    - https://ftmscan.com/address/0xB66b5D38E183De42F21e92aBcAF3c712dd5d6286"
   ]
  },
  {
   "cell_type": "code",
   "execution_count": 76,
   "id": "1437c265-dac5-422f-90b4-8d607148236d",
   "metadata": {},
   "outputs": [],
   "source": [
    "pills_erc20_contract = w3.eth.contract(\n",
    "    address=web3.Web3.toChecksumAddress('0xb66b5d38e183de42f21e92abcaf3c712dd5d6286'),\n",
    "    abi=[abis[\"erc20_balance_of\"]]\n",
    ")"
   ]
  },
  {
   "cell_type": "markdown",
   "id": "0df72a8e-57e0-4806-a9be-abe51b87ad9c",
   "metadata": {},
   "source": [
    "## Neo Pools\n",
    "\n",
    "There are many NeoPools contracts - but they all have the same interface.\n",
    "The following address corresponds to the NeoPool contract deployed April 12, 2022.\n",
    "\n",
    "- NeoPool:\n",
    "    - 0x326A7D91B6F767458599E7d93DFc850d2e083d30\n",
    "    - https://ftmscan.com/address/0x326A7D91B6F767458599E7d93DFc850d2e083d30"
   ]
  },
  {
   "cell_type": "code",
   "execution_count": 77,
   "id": "362b27a0-00c1-4cf1-9087-2bafcbc3a6f9",
   "metadata": {},
   "outputs": [
    {
     "name": "stdout",
     "output_type": "stream",
     "text": [
      "[{'address': '0x5bcb5f2ed10ac292c9e281c5ead4f0533666c3b6', 'name': 'WFTM'},\n",
      " {'address': '0x326A7D91B6F767458599E7d93DFc850d2e083d30', 'name': 'WFTM'},\n",
      " {'address': '0xA431fDd6d23f0d7C4b4B92F4aD866a5939b53abB', 'name': 'WFTM'}]\n"
     ]
    }
   ],
   "source": [
    "neopool_contract = w3.eth.contract(\n",
    "    address=web3.Web3.toChecksumAddress('0x326A7D91B6F767458599E7d93DFc850d2e083d30'),\n",
    "    abi=json.dumps([abis[\"neopool_user_info\"]])\n",
    ")\n",
    "\n",
    "# Load all Neo Pools and examine the 3 most-recent contract addresses\n",
    "with open(os.path.join(os.environ['DATA_PATH'], 'neo-pools.json'), 'r') as f:\n",
    "    neo_pool_addresses = json.load(f)\n",
    "neo_pool_addresses.reverse()\n",
    "pprint(neo_pool_addresses[:3])"
   ]
  },
  {
   "cell_type": "markdown",
   "id": "8a690853-3e7f-4992-8233-746f1e52c33d",
   "metadata": {},
   "source": [
    "### Spirit\n",
    "\n",
    "Any PILLS used to provide liquidity on Spirit Swap can be identified by calling `userInfo()` on the Spirit MasterChefV2 contract.\n",
    "\n",
    "- Proxy Contract for MasterChefV2:\n",
    "    - 0x6e2ad6527901c9664f016466b8DA1357a004db0f\n",
    "    - https://ftmscan.com/address/0x6e2ad6527901c9664f016466b8DA1357a004db0f\n",
    "    - userInfo(uint256 pid=35, address wallet_address)\n",
    "    - PILLS-FTM gauge pid: 35\n",
    "- MasterChefV2\n",
    "    - 0x5CEE2988184afE3CD807e0178B394259E8cdC56C\n",
    "    - https://ftmscan.com/address/0x5CEE2988184afE3CD807e0178B394259E8cdC56C\n",
    "- PILLS-FTM Spirit LP ERC-20\n",
    "    - 0x9C775D3D66167685B2A3F4567B548567D2875350\n",
    "    - https://ftmscan.com/address/0x9C775D3D66167685B2A3F4567B548567D2875350"
   ]
  },
  {
   "cell_type": "code",
   "execution_count": 78,
   "id": "ee283fa1-d21b-42b5-bbb3-52a457eb5f77",
   "metadata": {},
   "outputs": [],
   "source": [
    "spirit_pills_ftm_gauge_id = 35\n",
    "\n",
    "spirit_masterchef_contract = w3.eth.contract(\n",
    "    address=web3.Web3.toChecksumAddress('0x6e2ad6527901c9664f016466b8DA1357a004db0f'),\n",
    "    abi=json.dumps([abis[\"masterchef_user_info\"]])\n",
    ")"
   ]
  },
  {
   "cell_type": "markdown",
   "id": "42d09db4-99b6-4d01-8194-4bea2886de10",
   "metadata": {},
   "source": [
    "### Beethoven\n",
    "\n",
    "To identify the PILLS tokens held by the Beethoven X Vault on behalf of an address:\n",
    "\n",
    "1. Query the Vault to determine the total number of tokens in the PILLS-FTM Pool\n",
    "2. Query the Pool for each address to determine its proportional stake\n",
    "\n",
    "- WeightedPool2Tokens:\n",
    "    - 0x93c7dEfE51D787010BABfDB19504D5A72166E112\n",
    "    - https://ftmscan.com/address/0x93c7dEfE51D787010BABfDB19504D5A72166E112\n",
    "    - \"I took PILLS in Ibiza\"\n",
    "    - 80-20 PILLS-FTM\n",
    "- Balancer Vault:\n",
    "    - 0x20dd72ed959b6147912c2e529f0a0c651c33c9ce\n",
    "    - https://ftmscan.com/address/0x20dd72ed959b6147912c2e529f0a0c651c33c9ce\n",
    "    - getPoolTokens(bytes32 pool_id=0x93c7defe51d787010babfdb19504d5a72166e11200020000000000000000041c)\n",
    "    - getPool(bytes32 pool_id=0x93c7defe51d787010babfdb19504d5a72166e11200020000000000000000041c)"
   ]
  },
  {
   "cell_type": "code",
   "execution_count": 81,
   "id": "2c7cbf6b-ab45-45e6-a057-b440e63788ca",
   "metadata": {},
   "outputs": [],
   "source": [
    "beethoven_pills_ftm_pool_id = '0x93c7defe51d787010babfdb19504d5a72166e11200020000000000000000041c'\n",
    "\n",
    "beethoven_pills_ftm_lp_contract = w3.eth.contract(\n",
    "    address=web3.Web3.toChecksumAddress('0x93c7dEfE51D787010BABfDB19504D5A72166E112'),\n",
    "    abi=json.dumps([abis[\"erc20_balance_of\"]])\n",
    ")\n",
    "\n",
    "beethoven_vault_contract = w3.eth.contract(\n",
    "    address=web3.Web3.toChecksumAddress('0x20dd72ed959b6147912c2e529f0a0c651c33c9ce'),\n",
    "    abi=json.dumps([abis[\"balancer_get_pool_tokens\"]])\n",
    ")"
   ]
  },
  {
   "cell_type": "markdown",
   "id": "74672457-ffaf-4848-a04d-2ff79dd78e4e",
   "metadata": {},
   "source": [
    "## Snapshot Block\n",
    "\n",
    "Block number 36076462 was identified for the snapshot by scanning for the first block with a PILLS transaction that occurred on April 15, 2022.\n",
    "\n",
    "https://ftmscan.com/block/36076462"
   ]
  },
  {
   "cell_type": "code",
   "execution_count": 26,
   "id": "58306b39-9e89-4241-a664-31c52aa885bc",
   "metadata": {},
   "outputs": [],
   "source": [
    "block_number_snapshot = 36076462"
   ]
  },
  {
   "cell_type": "markdown",
   "id": "3178edb4-f0fe-423a-bbb9-8ee24f55dae5",
   "metadata": {},
   "source": [
    "## Addresss\n",
    "\n",
    "The addresses used in this analysis were obtained by identifying every address to interact with the PILLS ERC-20 contract.\n",
    "For example, any time an address invokes the PILLS ERC-20 `approve()` method, this would be recorded in the Fantom DAG as a transaction from a \"wallet\" address to the PILLS ERC-20 contract.\n",
    "\n",
    "Another common contract interaction involves the PILLS `transfer()` method, which can be called either directly or indirectly.\n",
    "When `transfer()` is called directly from an address, the entire transaction generally consists of a single instruction that invokes the `transfer()` method.\n",
    "PILLS may also be transferred indirectly - within a transaction - which for example occurs when tokens are swapped, during certain compounding operations, etc.\n",
    "\n",
    "We obtained all direct interactions with the PILLS ERC-20 by examining all transactions confirmed by the Fantom DAG, selecting those with the PILLS address as the value in the transaction `to` field.\n",
    "We obtained indirect, internal transaction `transfer()` invocations from Luabase, which *they* obtained by \"replaying\" all Fantom transactions using an Ethereum Virtual Machine (EVM) then storing the intermediate results.\n",
    "\n",
    "Altogether, this method identified addresses that could potentially be PILLS holders in April, 2022.\n",
    "This list of addresses is used as the source for querying other contracts in order to identify holdings with those contracts."
   ]
  },
  {
   "cell_type": "code",
   "execution_count": 86,
   "id": "0c688f8b-bee2-4d4c-96cf-ef30f7af2a88",
   "metadata": {},
   "outputs": [
    {
     "name": "stdout",
     "output_type": "stream",
     "text": [
      "Identified 10151 addresses that interacted with PILLS ERC-20 contract\n",
      "Sanity check: ensure the first 5 addresses look reasonable.\n",
      "['0xD488F4585Ab28D003324253be5D791aC103c0b57',\n",
      " '0x4BC4Da7839a3c987D44F0DBDAcBDd1f53243Ba24',\n",
      " '0xD3743Ec801f157FBfF93FcC813fdBA231026cBF2',\n",
      " '0xA5085a73A793ab3Db27E934759Ba4C0225af3eF5',\n",
      " '0xE1e96F427297C1A7c597cAEDF127D7906F1f2794']\n"
     ]
    }
   ],
   "source": [
    "# load all PILLS transactions\n",
    "df_txs = pd.read_csv(os.path.join(os.environ['DATA_PATH'], 'pills-txs.csv'))\n",
    "transaction_from_unique = set([ web3.Web3.toChecksumAddress(a) for a in df_txs['from'].unique() ])\n",
    "\n",
    "# load all PILLS ERC-20 transfers, as computed by Luabase\n",
    "df_transfers = pd.read_csv(os.path.join(os.environ['DATA_PATH'], 'pills-transfers.csv'))\n",
    "transfer_from_unique = set([ web3.Web3.toChecksumAddress(a) for a in df_transfers['from'].unique() ])\n",
    "transfer_to_unique = set([ web3.Web3.toChecksumAddress(a) for a in df_transfers['to'].unique() ])\n",
    "\n",
    "# identify unique addresses among PILLS transactions and transfers\n",
    "addresses = list(transfer_from_unique.union(transfer_to_unique).union(transaction_from_unique))\n",
    "print(f\"Identified {len(addresses)} addresses that interacted with PILLS ERC-20 contract\")\n",
    "print(\"Sanity check: ensure the first 5 addresses look reasonable.\")\n",
    "pprint(addresses[:5])\n",
    "\n",
    "# save addresses for later\n",
    "with open(os.path.join(os.environ['DATA_PATH'], 'pills-addresses.json'), 'w') as f:\n",
    "    json.dump(addresses, f)"
   ]
  },
  {
   "cell_type": "markdown",
   "id": "33ee366e-eb8a-44a5-a832-6998527266fe",
   "metadata": {},
   "source": [
    "## PILLS ERC-20 Balances"
   ]
  },
  {
   "cell_type": "code",
   "execution_count": 57,
   "id": "b099ad45-a63d-44a3-a86f-de16a020efb8",
   "metadata": {},
   "outputs": [],
   "source": [
    "results = []\n",
    "count = 0\n",
    "\n",
    "for address in addresses:\n",
    "    balance = pills_erc20_contract.functions.balanceOf(address).call(block_identifier=block_number_snapshot)\n",
    "    row = {\n",
    "        'address': address,\n",
    "        'balance': balance,\n",
    "    }\n",
    "    results.append(row)\n",
    "    \n",
    "    count += 1\n",
    "    time.sleep(0.2)\n",
    "    if count > 2:\n",
    "        break   \n",
    "\n",
    "df = pd.DataFrame(data=results)\n",
    "# df.to_csv(os.path.join(os.environ['DATA_PATH'], '2022-04-15-pills-erc20-balance.csv'), index=False)"
   ]
  },
  {
   "cell_type": "markdown",
   "id": "811ecbea-aa26-45df-b438-f3f4b40c100f",
   "metadata": {},
   "source": [
    "## Neo Pools"
   ]
  },
  {
   "cell_type": "markdown",
   "id": "cfe8ebc3-e35f-41b9-a394-9fd1cf28c660",
   "metadata": {},
   "source": [
    "## Spirit PILLS-FTM LP"
   ]
  },
  {
   "cell_type": "code",
   "execution_count": 82,
   "id": "86b1d456-273a-4e34-bd98-11d45c789ea0",
   "metadata": {},
   "outputs": [],
   "source": [
    "results = []\n",
    "count = 0\n",
    "\n",
    "for address in addresses:\n",
    "    amount, reward_debt = spirit_masterchef_contract.functions.userInfo(spirit_pills_ftm_gauge_id, address).call(block_identifier=block_number_snapshot)\n",
    "    row = {\n",
    "        'address': address,\n",
    "        'amount': amount,\n",
    "        'reward_debt': reward_debt,\n",
    "    }\n",
    "    results.append(row)\n",
    "    break\n",
    "\n",
    "df = pd.DataFrame(data=results)\n",
    "df.to_csv(os.path.join(os.environ['DATA_PATH'], '2022-04-15-pills-spirit-lp-balance.csv'), index=False)"
   ]
  },
  {
   "cell_type": "markdown",
   "id": "a2232606-7782-4171-aeb6-a3541463202e",
   "metadata": {},
   "source": [
    "## Beethoven X LP"
   ]
  },
  {
   "cell_type": "code",
   "execution_count": 96,
   "id": "aad233e4-08c3-4423-ab04-3a4455b99e58",
   "metadata": {},
   "outputs": [
    {
     "name": "stdout",
     "output_type": "stream",
     "text": [
      "\n",
      "Tokens:   ['0xB66b5D38E183De42F21e92aBcAF3c712dd5d6286', '0xC3BF643799237588b7a6B407B3fc028Dd4e037d2']\n",
      "Balances: [216009.18084645565, 13542.645867063333]\n",
      "\n"
     ]
    }
   ],
   "source": [
    "results = []\n",
    "count = 0\n",
    "\n",
    "# first determine total tokens in pool\n",
    "tokens, balances, last_change_block = beethoven_vault_contract.functions.getPoolTokens(beethoven_pills_ftm_pool_id).call(block_identifier=block_number_snapshot)\n",
    "print(f\"\"\"\n",
    "Tokens:   {tokens}\n",
    "Balances: {[b/10**18 for b in balances]}\n",
    "\"\"\")\n",
    "\n",
    "# for address in addresses:\n",
    "#     amount, reward_debt = spirit_masterchef_contract.functions.userInfo(spirit_pills_ftm_gauge_id, address).call(block_identifier=block_number_snapshot)\n",
    "#     row = {\n",
    "#         'address': address,\n",
    "#         'amount': amount,\n",
    "#         'reward_debt': reward_debt,\n",
    "#     }\n",
    "#     results.append(row)\n",
    "#     break\n",
    "\n",
    "# df = pd.DataFrame(data=results)\n",
    "# df.to_csv(os.path.join(os.environ['DATA_PATH'], '2022-04-15-pills-spirit-lp-balance.csv'), index=False)"
   ]
  }
 ],
 "metadata": {
  "kernelspec": {
   "display_name": "Python 3 (ipykernel)",
   "language": "python",
   "name": "python3"
  },
  "language_info": {
   "codemirror_mode": {
    "name": "ipython",
    "version": 3
   },
   "file_extension": ".py",
   "mimetype": "text/x-python",
   "name": "python",
   "nbconvert_exporter": "python",
   "pygments_lexer": "ipython3",
   "version": "3.9.15"
  }
 },
 "nbformat": 4,
 "nbformat_minor": 5
}
