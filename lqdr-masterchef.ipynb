{
 "cells": [
  {
   "cell_type": "markdown",
   "id": "d6327316-ff95-4670-b476-c753571e0341",
   "metadata": {},
   "source": [
    "# Scan LQDR MasterChef instead of Gauge"
   ]
  },
  {
   "cell_type": "code",
   "execution_count": 47,
   "id": "4a9e4130-3c45-44f6-a5db-99abbeb267c6",
   "metadata": {},
   "outputs": [
    {
     "data": {
      "text/plain": [
       "True"
      ]
     },
     "execution_count": 47,
     "metadata": {},
     "output_type": "execute_result"
    }
   ],
   "source": [
    "import os\n",
    "import json\n",
    "import pandas as pd\n",
    "from dotenv import load_dotenv\n",
    "\n",
    "load_dotenv(os.path.expanduser('~/Work/morpheus-swap/.env'))"
   ]
  },
  {
   "cell_type": "code",
   "execution_count": 48,
   "id": "fc393ee7-a1f4-4ac7-933a-601aeadde097",
   "metadata": {},
   "outputs": [
    {
     "data": {
      "text/html": [
       "<div>\n",
       "<style scoped>\n",
       "    .dataframe tbody tr th:only-of-type {\n",
       "        vertical-align: middle;\n",
       "    }\n",
       "\n",
       "    .dataframe tbody tr th {\n",
       "        vertical-align: top;\n",
       "    }\n",
       "\n",
       "    .dataframe thead th {\n",
       "        text-align: right;\n",
       "    }\n",
       "</style>\n",
       "<table border=\"1\" class=\"dataframe\">\n",
       "  <thead>\n",
       "    <tr style=\"text-align: right;\">\n",
       "      <th></th>\n",
       "      <th>amount</th>\n",
       "      <th>address</th>\n",
       "    </tr>\n",
       "  </thead>\n",
       "  <tbody>\n",
       "    <tr>\n",
       "      <th>0</th>\n",
       "      <td>766.585645</td>\n",
       "      <td>0xa4722a7A8a79E0de7B568559261D789f0B80baDC</td>\n",
       "    </tr>\n",
       "    <tr>\n",
       "      <th>1</th>\n",
       "      <td>0.0</td>\n",
       "      <td>0x326A7D91B6F767458599E7d93DFc850d2e083d30</td>\n",
       "    </tr>\n",
       "    <tr>\n",
       "      <th>2</th>\n",
       "      <td>0.0</td>\n",
       "      <td>0x4BC4Da7839a3c987D44F0DBDAcBDd1f53243Ba24</td>\n",
       "    </tr>\n",
       "    <tr>\n",
       "      <th>3</th>\n",
       "      <td>0.0</td>\n",
       "      <td>0xE1e96F427297C1A7c597cAEDF127D7906F1f2794</td>\n",
       "    </tr>\n",
       "    <tr>\n",
       "      <th>4</th>\n",
       "      <td>0.0</td>\n",
       "      <td>0x3B97fD8F6fbF336672a80a9C3072b60c1AC37914</td>\n",
       "    </tr>\n",
       "  </tbody>\n",
       "</table>\n",
       "</div>"
      ],
      "text/plain": [
       "       amount                                     address\n",
       "0  766.585645  0xa4722a7A8a79E0de7B568559261D789f0B80baDC\n",
       "1         0.0  0x326A7D91B6F767458599E7d93DFc850d2e083d30\n",
       "2         0.0  0x4BC4Da7839a3c987D44F0DBDAcBDd1f53243Ba24\n",
       "3         0.0  0xE1e96F427297C1A7c597cAEDF127D7906F1f2794\n",
       "4         0.0  0x3B97fD8F6fbF336672a80a9C3072b60c1AC37914"
      ]
     },
     "execution_count": 48,
     "metadata": {},
     "output_type": "execute_result"
    }
   ],
   "source": [
    "with open(os.path.expanduser('~/Work/chaino/var/lqdr-pills-master-chef-balance.json'), 'r') as f:\n",
    "    userinfo = json.load(f)\n",
    "\n",
    "results = {}\n",
    "for task_id in userinfo.keys():\n",
    "    results.update(userinfo[task_id])\n",
    "\n",
    "df = pd.DataFrame.from_dict(results, orient='index', columns=['amount', 'reward_debt'])\n",
    "df['address'] = df.index\n",
    "df['amount'] = df['amount'] / (10**18)\n",
    "df = df.reset_index(drop=True)\n",
    "del df['reward_debt']\n",
    "\n",
    "df.head()"
   ]
  },
  {
   "cell_type": "code",
   "execution_count": 49,
   "id": "18c18708-875d-41fe-aa67-3c1c69431f0f",
   "metadata": {
    "tags": []
   },
   "outputs": [
    {
     "data": {
      "text/plain": [
       "1154249.6829276592"
      ]
     },
     "execution_count": 49,
     "metadata": {},
     "output_type": "execute_result"
    }
   ],
   "source": [
    "# the total volume of LP-esque tokens minted by LQDR to represent staked Spirit LP\n",
    "lqdr_spirit_lp_total = df['amount'].sum()\n",
    "lqdr_spirit_lp_total"
   ]
  },
  {
   "cell_type": "code",
   "execution_count": 50,
   "id": "80e6ddb6-16d9-489e-9ed0-217005a459a0",
   "metadata": {
    "tags": []
   },
   "outputs": [
    {
     "data": {
      "text/html": [
       "<div>\n",
       "<style scoped>\n",
       "    .dataframe tbody tr th:only-of-type {\n",
       "        vertical-align: middle;\n",
       "    }\n",
       "\n",
       "    .dataframe tbody tr th {\n",
       "        vertical-align: top;\n",
       "    }\n",
       "\n",
       "    .dataframe thead th {\n",
       "        text-align: right;\n",
       "    }\n",
       "</style>\n",
       "<table border=\"1\" class=\"dataframe\">\n",
       "  <thead>\n",
       "    <tr style=\"text-align: right;\">\n",
       "      <th></th>\n",
       "      <th>address</th>\n",
       "      <th>pills_erc20_balance</th>\n",
       "      <th>beets_lp_erc20_balance</th>\n",
       "      <th>neo_pool_0_amount</th>\n",
       "      <th>neo_pool_0_reward_debt</th>\n",
       "      <th>neo_pool_1_amount</th>\n",
       "      <th>neo_pool_1_reward_debt</th>\n",
       "      <th>spirit_amount</th>\n",
       "      <th>spirit_reward_debt</th>\n",
       "    </tr>\n",
       "  </thead>\n",
       "  <tbody>\n",
       "    <tr>\n",
       "      <th>0</th>\n",
       "      <td>0x9C775D3D66167685B2A3F4567B548567D2875350</td>\n",
       "      <td>2.415931e+06</td>\n",
       "      <td>0.0</td>\n",
       "      <td>0.000000</td>\n",
       "      <td>0.000000</td>\n",
       "      <td>0.0</td>\n",
       "      <td>0.0</td>\n",
       "      <td>0.0</td>\n",
       "      <td>0.0</td>\n",
       "    </tr>\n",
       "    <tr>\n",
       "      <th>1</th>\n",
       "      <td>0xF04588329c3104779796F279A9df3803Ae83dB7B</td>\n",
       "      <td>0.000000e+00</td>\n",
       "      <td>0.0</td>\n",
       "      <td>50659.894950</td>\n",
       "      <td>1463.820474</td>\n",
       "      <td>0.0</td>\n",
       "      <td>0.0</td>\n",
       "      <td>0.0</td>\n",
       "      <td>0.0</td>\n",
       "    </tr>\n",
       "    <tr>\n",
       "      <th>2</th>\n",
       "      <td>0x326A7D91B6F767458599E7d93DFc850d2e083d30</td>\n",
       "      <td>2.882333e+06</td>\n",
       "      <td>0.0</td>\n",
       "      <td>0.000000</td>\n",
       "      <td>0.000000</td>\n",
       "      <td>0.0</td>\n",
       "      <td>0.0</td>\n",
       "      <td>0.0</td>\n",
       "      <td>0.0</td>\n",
       "    </tr>\n",
       "    <tr>\n",
       "      <th>3</th>\n",
       "      <td>0x2728e32174FC95De00695007c9134fA03dC8b434</td>\n",
       "      <td>0.000000e+00</td>\n",
       "      <td>0.0</td>\n",
       "      <td>53376.318198</td>\n",
       "      <td>1611.750893</td>\n",
       "      <td>0.0</td>\n",
       "      <td>0.0</td>\n",
       "      <td>0.0</td>\n",
       "      <td>0.0</td>\n",
       "    </tr>\n",
       "    <tr>\n",
       "      <th>4</th>\n",
       "      <td>0xD488F4585Ab28D003324253be5D791aC103c0b57</td>\n",
       "      <td>8.730000e-16</td>\n",
       "      <td>0.0</td>\n",
       "      <td>0.000000</td>\n",
       "      <td>0.000000</td>\n",
       "      <td>0.0</td>\n",
       "      <td>0.0</td>\n",
       "      <td>0.0</td>\n",
       "      <td>0.0</td>\n",
       "    </tr>\n",
       "  </tbody>\n",
       "</table>\n",
       "</div>"
      ],
      "text/plain": [
       "                                      address  pills_erc20_balance  \\\n",
       "0  0x9C775D3D66167685B2A3F4567B548567D2875350         2.415931e+06   \n",
       "1  0xF04588329c3104779796F279A9df3803Ae83dB7B         0.000000e+00   \n",
       "2  0x326A7D91B6F767458599E7d93DFc850d2e083d30         2.882333e+06   \n",
       "3  0x2728e32174FC95De00695007c9134fA03dC8b434         0.000000e+00   \n",
       "4  0xD488F4585Ab28D003324253be5D791aC103c0b57         8.730000e-16   \n",
       "\n",
       "   beets_lp_erc20_balance  neo_pool_0_amount  neo_pool_0_reward_debt  \\\n",
       "0                     0.0           0.000000                0.000000   \n",
       "1                     0.0       50659.894950             1463.820474   \n",
       "2                     0.0           0.000000                0.000000   \n",
       "3                     0.0       53376.318198             1611.750893   \n",
       "4                     0.0           0.000000                0.000000   \n",
       "\n",
       "   neo_pool_1_amount  neo_pool_1_reward_debt  spirit_amount  \\\n",
       "0                0.0                     0.0            0.0   \n",
       "1                0.0                     0.0            0.0   \n",
       "2                0.0                     0.0            0.0   \n",
       "3                0.0                     0.0            0.0   \n",
       "4                0.0                     0.0            0.0   \n",
       "\n",
       "   spirit_reward_debt  \n",
       "0                 0.0  \n",
       "1                 0.0  \n",
       "2                 0.0  \n",
       "3                 0.0  \n",
       "4                 0.0  "
      ]
     },
     "execution_count": 50,
     "metadata": {},
     "output_type": "execute_result"
    }
   ],
   "source": [
    "filename = os.path.join(os.environ['DATA_PATH'], '2022-04-20-pills-contracts.csv.gz')\n",
    "df_contracts = pd.read_csv(filename)\n",
    "df_contracts.head()"
   ]
  },
  {
   "cell_type": "code",
   "execution_count": 51,
   "id": "59d1016a-fa55-4474-acd8-1a60b12a8c7f",
   "metadata": {
    "tags": []
   },
   "outputs": [
    {
     "data": {
      "text/plain": [
       "2415931.0318463827"
      ]
     },
     "execution_count": 51,
     "metadata": {},
     "output_type": "execute_result"
    }
   ],
   "source": [
    "# the total amount of PILLS controlled by the Spirit LP, according to PILLS ERC-20\n",
    "spirit_pills_volume = df_contracts.loc[df_contracts['address'] == '0x9C775D3D66167685B2A3F4567B548567D2875350']['pills_erc20_balance']\n",
    "spirit_pills_volume = float(spirit_pills_volume)\n",
    "spirit_pills_volume"
   ]
  },
  {
   "cell_type": "code",
   "execution_count": 52,
   "id": "14690ee5-4228-42ee-a43c-0e6d04faa76e",
   "metadata": {
    "tags": []
   },
   "outputs": [
    {
     "data": {
      "text/html": [
       "<div>\n",
       "<style scoped>\n",
       "    .dataframe tbody tr th:only-of-type {\n",
       "        vertical-align: middle;\n",
       "    }\n",
       "\n",
       "    .dataframe tbody tr th {\n",
       "        vertical-align: top;\n",
       "    }\n",
       "\n",
       "    .dataframe thead th {\n",
       "        text-align: right;\n",
       "    }\n",
       "</style>\n",
       "<table border=\"1\" class=\"dataframe\">\n",
       "  <thead>\n",
       "    <tr style=\"text-align: right;\">\n",
       "      <th></th>\n",
       "      <th>amount</th>\n",
       "      <th>address</th>\n",
       "      <th>lqdr_pills_balance</th>\n",
       "    </tr>\n",
       "  </thead>\n",
       "  <tbody>\n",
       "    <tr>\n",
       "      <th>0</th>\n",
       "      <td>766.585645</td>\n",
       "      <td>0xa4722a7A8a79E0de7B568559261D789f0B80baDC</td>\n",
       "      <td>1604.521167</td>\n",
       "    </tr>\n",
       "    <tr>\n",
       "      <th>1</th>\n",
       "      <td>0.0</td>\n",
       "      <td>0x326A7D91B6F767458599E7d93DFc850d2e083d30</td>\n",
       "      <td>0.0</td>\n",
       "    </tr>\n",
       "    <tr>\n",
       "      <th>2</th>\n",
       "      <td>0.0</td>\n",
       "      <td>0x4BC4Da7839a3c987D44F0DBDAcBDd1f53243Ba24</td>\n",
       "      <td>0.0</td>\n",
       "    </tr>\n",
       "    <tr>\n",
       "      <th>3</th>\n",
       "      <td>0.0</td>\n",
       "      <td>0xE1e96F427297C1A7c597cAEDF127D7906F1f2794</td>\n",
       "      <td>0.0</td>\n",
       "    </tr>\n",
       "    <tr>\n",
       "      <th>4</th>\n",
       "      <td>0.0</td>\n",
       "      <td>0x3B97fD8F6fbF336672a80a9C3072b60c1AC37914</td>\n",
       "      <td>0.0</td>\n",
       "    </tr>\n",
       "  </tbody>\n",
       "</table>\n",
       "</div>"
      ],
      "text/plain": [
       "       amount                                     address lqdr_pills_balance\n",
       "0  766.585645  0xa4722a7A8a79E0de7B568559261D789f0B80baDC        1604.521167\n",
       "1         0.0  0x326A7D91B6F767458599E7d93DFc850d2e083d30                0.0\n",
       "2         0.0  0x4BC4Da7839a3c987D44F0DBDAcBDd1f53243Ba24                0.0\n",
       "3         0.0  0xE1e96F427297C1A7c597cAEDF127D7906F1f2794                0.0\n",
       "4         0.0  0x3B97fD8F6fbF336672a80a9C3072b60c1AC37914                0.0"
      ]
     },
     "execution_count": 52,
     "metadata": {},
     "output_type": "execute_result"
    }
   ],
   "source": [
    "# per-address volume of PILLS as proportion of Spirit LP staked with LQDR\n",
    "df['lqdr_pills_balance'] = spirit_pills_volume * (df['amount'] / lqdr_spirit_lp_total)\n",
    "df.head()"
   ]
  },
  {
   "cell_type": "code",
   "execution_count": 53,
   "id": "62bb99b3-2b6d-41c4-83c2-22e2d105765a",
   "metadata": {
    "tags": []
   },
   "outputs": [
    {
     "data": {
      "text/plain": [
       "2415931.031846382"
      ]
     },
     "execution_count": 53,
     "metadata": {},
     "output_type": "execute_result"
    }
   ],
   "source": [
    "del df['amount']\n",
    "filename = os.path.join(os.environ['DATA_PATH'], 'lqdr-pills-master-chef-balance.csv')\n",
    "df.to_csv(filename)\n",
    "\n",
    "df['lqdr_pills_balance'].sum()"
   ]
  }
 ],
 "metadata": {
  "kernelspec": {
   "display_name": "Python 3 (ipykernel)",
   "language": "python",
   "name": "python3"
  },
  "language_info": {
   "codemirror_mode": {
    "name": "ipython",
    "version": 3
   },
   "file_extension": ".py",
   "mimetype": "text/x-python",
   "name": "python",
   "nbconvert_exporter": "python",
   "pygments_lexer": "ipython3",
   "version": "3.10.9"
  }
 },
 "nbformat": 4,
 "nbformat_minor": 5
}
