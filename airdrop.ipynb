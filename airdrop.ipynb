{
 "cells": [
  {
   "cell_type": "markdown",
   "id": "da18a4f2-a0ad-47a6-85d4-8ff9f049edbf",
   "metadata": {},
   "source": [
    "# Calculate proportions for Airdrop"
   ]
  },
  {
   "cell_type": "code",
   "execution_count": 1,
   "id": "09c5c1b8-495f-4606-9784-70536424c464",
   "metadata": {},
   "outputs": [
    {
     "data": {
      "text/html": [
       "<div>\n",
       "<style scoped>\n",
       "    .dataframe tbody tr th:only-of-type {\n",
       "        vertical-align: middle;\n",
       "    }\n",
       "\n",
       "    .dataframe tbody tr th {\n",
       "        vertical-align: top;\n",
       "    }\n",
       "\n",
       "    .dataframe thead th {\n",
       "        text-align: right;\n",
       "    }\n",
       "</style>\n",
       "<table border=\"1\" class=\"dataframe\">\n",
       "  <thead>\n",
       "    <tr style=\"text-align: right;\">\n",
       "      <th></th>\n",
       "      <th>Unnamed: 0</th>\n",
       "      <th>address</th>\n",
       "      <th>pills_erc20_balance_historical</th>\n",
       "      <th>lqdr_pills_balance</th>\n",
       "      <th>pills_erc20_balance_current</th>\n",
       "      <th>neo_pools_balance</th>\n",
       "      <th>beets_pills_balance</th>\n",
       "    </tr>\n",
       "  </thead>\n",
       "  <tbody>\n",
       "    <tr>\n",
       "      <th>0</th>\n",
       "      <td>0</td>\n",
       "      <td>0x9C775D3D66167685B2A3F4567B548567D2875350</td>\n",
       "      <td>2.415931e+06</td>\n",
       "      <td>0.0</td>\n",
       "      <td>281012.897854</td>\n",
       "      <td>0.0</td>\n",
       "      <td>0.0</td>\n",
       "    </tr>\n",
       "  </tbody>\n",
       "</table>\n",
       "</div>"
      ],
      "text/plain": [
       "   Unnamed: 0                                     address  \\\n",
       "0           0  0x9C775D3D66167685B2A3F4567B548567D2875350   \n",
       "\n",
       "   pills_erc20_balance_historical  lqdr_pills_balance  \\\n",
       "0                    2.415931e+06                 0.0   \n",
       "\n",
       "   pills_erc20_balance_current  neo_pools_balance  beets_pills_balance  \n",
       "0                281012.897854                0.0                  0.0  "
      ]
     },
     "execution_count": 1,
     "metadata": {},
     "output_type": "execute_result"
    }
   ],
   "source": [
    "import json\n",
    "from pprint import pprint\n",
    "import pandas as pd\n",
    "df = pd.read_csv('data/pills-snapshot.csv')\n",
    "df.head(1)"
   ]
  },
  {
   "cell_type": "markdown",
   "id": "7f7db5ad-19fd-421b-8af2-1f995d0cd70f",
   "metadata": {},
   "source": [
    "We begin with the total circulating supply of PILLS at the time of the snapshot."
   ]
  },
  {
   "cell_type": "code",
   "execution_count": 2,
   "id": "40277e5d-e081-4fbe-9d02-ee759f1da0ee",
   "metadata": {},
   "outputs": [
    {
     "data": {
      "text/plain": [
       "6714972.014113384"
      ]
     },
     "execution_count": 2,
     "metadata": {},
     "output_type": "execute_result"
    }
   ],
   "source": [
    "df['pills_erc20_balance_historical'].sum()"
   ]
  },
  {
   "cell_type": "markdown",
   "id": "057d7e88-9a0a-4338-915b-5e5e98deb79c",
   "metadata": {},
   "source": [
    "Out of the circulating supply, a substantial proportion of PILLS were transferred to contracts.\n",
    "Any PILLS in a contract (Neo pools, Spirit+LQDR, Beets) were therefore no longer controlled by a \"wallet\" address.\n",
    "We've inspected those specific contracts to connect wallet addresses with the PILLS staked in those contracts.\n",
    "We will remove those contracts from the snapshot; they are not wallet addresses and we've attributed their balances to real wallets."
   ]
  },
  {
   "cell_type": "code",
   "execution_count": 3,
   "id": "8afd08ff-9d13-4f2a-a98b-aee0ff8fc629",
   "metadata": {
    "tags": []
   },
   "outputs": [],
   "source": [
    "# remove Spirit LP balance\n",
    "df = df[df.address != '0x9C775D3D66167685B2A3F4567B548567D2875350']\n",
    "\n",
    "# remove all Neo Pools\n",
    "with open('data/neo-pools.json', 'r') as f:\n",
    "    neo_pool_addresses = json.load(f)\n",
    "neo_pool_addresses.reverse()\n",
    "neo_pool_addresses = [ i['address'] for i in neo_pool_addresses ]\n",
    "df = df[~df.address.isin(neo_pool_addresses)]\n",
    "\n",
    "# the Neo Pools balance in any pool prior to the continuous Neo Pools\n",
    "other_neo_pool_total = 336780.609907302\n",
    "\n",
    "# remove Beets balance\n",
    "df = df[df.address != '0x20dd72Ed959b6147912C2e529F0a0C651c33c9ce']\n",
    "\n",
    "pills_for_airdrop = df['pills_erc20_balance_historical'].sum() + \\\n",
    "    df['neo_pools_balance'].sum() + \\\n",
    "    df['lqdr_pills_balance'].sum() + \\\n",
    "    df['beets_pills_balance'].sum()"
   ]
  },
  {
   "cell_type": "markdown",
   "id": "d41f4079-95a9-415e-bcf9-c0e40c48a637",
   "metadata": {},
   "source": [
    "Total PILLS controlled by an address is given by the sum of all columns except pills_erc20_balance_current.\n",
    "Double-check that the total matches circulating supply."
   ]
  },
  {
   "cell_type": "code",
   "execution_count": 4,
   "id": "e9832ebe-d4ce-4ea3-9fe5-1debc5b76820",
   "metadata": {},
   "outputs": [
    {
     "data": {
      "text/plain": [
       "6714972.014113386"
      ]
     },
     "execution_count": 4,
     "metadata": {},
     "output_type": "execute_result"
    }
   ],
   "source": [
    "df['total'] = df['pills_erc20_balance_historical'] + \\\n",
    "    df['neo_pools_balance'] + \\\n",
    "    df['lqdr_pills_balance'] + \\\n",
    "    df['beets_pills_balance']\n",
    "\n",
    "df['total'].sum() + other_neo_pool_total"
   ]
  },
  {
   "cell_type": "markdown",
   "id": "a1a8f1fb-a673-4e80-b4e7-577e0a851673",
   "metadata": {},
   "source": [
    "Compute proportions for airdrop. Double-check that proportion assigned is 100%."
   ]
  },
  {
   "cell_type": "code",
   "execution_count": 5,
   "id": "ca1e0300-2b34-4534-b868-5a1c73c29095",
   "metadata": {},
   "outputs": [
    {
     "data": {
      "text/plain": [
       "1.0"
      ]
     },
     "execution_count": 5,
     "metadata": {},
     "output_type": "execute_result"
    }
   ],
   "source": [
    "df['proportion'] = df['total'] / pills_for_airdrop\n",
    "df['proportion'].sum()"
   ]
  },
  {
   "cell_type": "markdown",
   "id": "b4c9a15d-b3c4-461c-955e-d68ed2c297c5",
   "metadata": {},
   "source": [
    "Apply verified address changes by request."
   ]
  },
  {
   "cell_type": "code",
   "execution_count": 6,
   "id": "bb037b47-eea6-4df4-9f2e-3539175ffa48",
   "metadata": {
    "tags": []
   },
   "outputs": [],
   "source": [
    "df_address_changes = pd.read_csv('data/address-changes.csv')\n",
    "address_changes = dict(zip(df_address_changes.old, df_address_changes.new))\n",
    "df['address'] = df['address'].map(address_changes).fillna(df.address)"
   ]
  },
  {
   "cell_type": "code",
   "execution_count": 7,
   "id": "aa8771b8-d9cb-47a9-a42f-6d1c9a2c0ec6",
   "metadata": {},
   "outputs": [
    {
     "data": {
      "text/html": [
       "<div>\n",
       "<style scoped>\n",
       "    .dataframe tbody tr th:only-of-type {\n",
       "        vertical-align: middle;\n",
       "    }\n",
       "\n",
       "    .dataframe tbody tr th {\n",
       "        vertical-align: top;\n",
       "    }\n",
       "\n",
       "    .dataframe thead th {\n",
       "        text-align: right;\n",
       "    }\n",
       "</style>\n",
       "<table border=\"1\" class=\"dataframe\">\n",
       "  <thead>\n",
       "    <tr style=\"text-align: right;\">\n",
       "      <th></th>\n",
       "      <th>address</th>\n",
       "      <th>proportion</th>\n",
       "    </tr>\n",
       "  </thead>\n",
       "  <tbody>\n",
       "    <tr>\n",
       "      <th>1</th>\n",
       "      <td>0xF04588329c3104779796F279A9df3803Ae83dB7B</td>\n",
       "      <td>7.942674e-03</td>\n",
       "    </tr>\n",
       "    <tr>\n",
       "      <th>3</th>\n",
       "      <td>0x2728e32174FC95De00695007c9134fA03dC8b434</td>\n",
       "      <td>8.368566e-03</td>\n",
       "    </tr>\n",
       "    <tr>\n",
       "      <th>4</th>\n",
       "      <td>0xD488F4585Ab28D003324253be5D791aC103c0b57</td>\n",
       "      <td>1.368727e-22</td>\n",
       "    </tr>\n",
       "    <tr>\n",
       "      <th>5</th>\n",
       "      <td>0x4BC4Da7839a3c987D44F0DBDAcBDd1f53243Ba24</td>\n",
       "      <td>0.000000e+00</td>\n",
       "    </tr>\n",
       "    <tr>\n",
       "      <th>6</th>\n",
       "      <td>0xD3743Ec801f157FBfF93FcC813fdBA231026cBF2</td>\n",
       "      <td>0.000000e+00</td>\n",
       "    </tr>\n",
       "  </tbody>\n",
       "</table>\n",
       "</div>"
      ],
      "text/plain": [
       "                                      address    proportion\n",
       "1  0xF04588329c3104779796F279A9df3803Ae83dB7B  7.942674e-03\n",
       "3  0x2728e32174FC95De00695007c9134fA03dC8b434  8.368566e-03\n",
       "4  0xD488F4585Ab28D003324253be5D791aC103c0b57  1.368727e-22\n",
       "5  0x4BC4Da7839a3c987D44F0DBDAcBDd1f53243Ba24  0.000000e+00\n",
       "6  0xD3743Ec801f157FBfF93FcC813fdBA231026cBF2  0.000000e+00"
      ]
     },
     "execution_count": 7,
     "metadata": {},
     "output_type": "execute_result"
    }
   ],
   "source": [
    "df_proportion = df[['address', 'proportion']]\n",
    "df_proportion.to_csv('data/airdrop.csv', index=False)\n",
    "df_proportion.head()"
   ]
  },
  {
   "cell_type": "markdown",
   "id": "5cc3aa05-941e-4ce8-9e3d-d2524f51dc2a",
   "metadata": {},
   "source": [
    "Prepare CSV for use with disperse.app"
   ]
  },
  {
   "cell_type": "code",
   "execution_count": 8,
   "id": "e334dde5-725d-45f5-8db7-239dc737ed88",
   "metadata": {
    "tags": []
   },
   "outputs": [
    {
     "data": {
      "text/html": [
       "<div>\n",
       "<style scoped>\n",
       "    .dataframe tbody tr th:only-of-type {\n",
       "        vertical-align: middle;\n",
       "    }\n",
       "\n",
       "    .dataframe tbody tr th {\n",
       "        vertical-align: top;\n",
       "    }\n",
       "\n",
       "    .dataframe thead th {\n",
       "        text-align: right;\n",
       "    }\n",
       "</style>\n",
       "<table border=\"1\" class=\"dataframe\">\n",
       "  <thead>\n",
       "    <tr style=\"text-align: right;\">\n",
       "      <th></th>\n",
       "      <th>address</th>\n",
       "      <th>token</th>\n",
       "    </tr>\n",
       "  </thead>\n",
       "  <tbody>\n",
       "    <tr>\n",
       "      <th>1</th>\n",
       "      <td>0xF04588329c3104779796F279A9df3803Ae83dB7B</td>\n",
       "      <td>794.267399</td>\n",
       "    </tr>\n",
       "    <tr>\n",
       "      <th>3</th>\n",
       "      <td>0x2728e32174FC95De00695007c9134fA03dC8b434</td>\n",
       "      <td>836.856639</td>\n",
       "    </tr>\n",
       "    <tr>\n",
       "      <th>8</th>\n",
       "      <td>0xE1e96F427297C1A7c597cAEDF127D7906F1f2794</td>\n",
       "      <td>0.012758</td>\n",
       "    </tr>\n",
       "    <tr>\n",
       "      <th>10</th>\n",
       "      <td>0xe17A3d8399ebc55CC9C6b5719687B70D5fbf44a4</td>\n",
       "      <td>291.252617</td>\n",
       "    </tr>\n",
       "    <tr>\n",
       "      <th>16</th>\n",
       "      <td>0xb41243FD8f0aA4D2Cf22598788588d1bC62b883c</td>\n",
       "      <td>0.401218</td>\n",
       "    </tr>\n",
       "  </tbody>\n",
       "</table>\n",
       "</div>"
      ],
      "text/plain": [
       "                                       address       token\n",
       "1   0xF04588329c3104779796F279A9df3803Ae83dB7B  794.267399\n",
       "3   0x2728e32174FC95De00695007c9134fA03dC8b434  836.856639\n",
       "8   0xE1e96F427297C1A7c597cAEDF127D7906F1f2794    0.012758\n",
       "10  0xe17A3d8399ebc55CC9C6b5719687B70D5fbf44a4  291.252617\n",
       "16  0xb41243FD8f0aA4D2Cf22598788588d1bC62b883c    0.401218"
      ]
     },
     "execution_count": 8,
     "metadata": {},
     "output_type": "execute_result"
    }
   ],
   "source": [
    "df_disperse = df.copy()\n",
    "df_disperse = df_disperse[['address', 'proportion']]\n",
    "\n",
    "# allocate 100_000 MPX to disperse\n",
    "df_disperse['token'] = df_disperse['proportion'] * 100_000\n",
    "del(df_disperse['proportion'])\n",
    "\n",
    "# remove zero-balances and dust balances\n",
    "df_disperse = df_disperse[df_disperse.token > 0.01]\n",
    "df_disperse.to_csv('data/disperse.csv', index=False, header=False)\n",
    "df_disperse.head(5)"
   ]
  },
  {
   "cell_type": "markdown",
   "id": "b281b76c-49db-4cb0-802d-fb8b8d164e92",
   "metadata": {},
   "source": [
    "At current quote 1 MPX == 0.617 USD, what is USD value of dust that was removed?"
   ]
  },
  {
   "cell_type": "code",
   "execution_count": 9,
   "id": "f52c9f19-3960-49dc-a07a-6c00fb7153d8",
   "metadata": {
    "tags": []
   },
   "outputs": [
    {
     "data": {
      "text/plain": [
       "0.33731877241955954"
      ]
     },
     "execution_count": 9,
     "metadata": {},
     "output_type": "execute_result"
    }
   ],
   "source": [
    "(100_000 - df_disperse['token'].sum()) * 0.617"
   ]
  },
  {
   "cell_type": "markdown",
   "id": "967e965e-7b12-44d8-8282-09ff116a3b4a",
   "metadata": {},
   "source": [
    "It will cost more gas to disperse dust than the total value of that dust.\n",
    "Similarly, dust recipients would pay more in gas for even a single transaction than dust is worth."
   ]
  },
  {
   "cell_type": "markdown",
   "id": "ce599222-dc0b-4f32-a967-1e1e12c9e0de",
   "metadata": {
    "tags": []
   },
   "source": [
    "Double-check that amount to be dispersed is 100_000 (minus dust)"
   ]
  },
  {
   "cell_type": "code",
   "execution_count": 10,
   "id": "1e51a918-a4e4-4934-855b-31ebcde0b199",
   "metadata": {
    "tags": []
   },
   "outputs": [
    {
     "data": {
      "text/plain": [
       "99999.45329210305"
      ]
     },
     "execution_count": 10,
     "metadata": {},
     "output_type": "execute_result"
    }
   ],
   "source": [
    "df_disperse['token'].sum()"
   ]
  }
 ],
 "metadata": {
  "kernelspec": {
   "display_name": "Python 3 (ipykernel)",
   "language": "python",
   "name": "python3"
  },
  "language_info": {
   "codemirror_mode": {
    "name": "ipython",
    "version": 3
   },
   "file_extension": ".py",
   "mimetype": "text/x-python",
   "name": "python",
   "nbconvert_exporter": "python",
   "pygments_lexer": "ipython3",
   "version": "3.10.9"
  }
 },
 "nbformat": 4,
 "nbformat_minor": 5
}
