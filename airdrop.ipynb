{
 "cells": [
  {
   "cell_type": "markdown",
   "id": "da18a4f2-a0ad-47a6-85d4-8ff9f049edbf",
   "metadata": {},
   "source": [
    "# Calculate proportions for Airdrop"
   ]
  },
  {
   "cell_type": "code",
   "execution_count": 78,
   "id": "09c5c1b8-495f-4606-9784-70536424c464",
   "metadata": {},
   "outputs": [
    {
     "data": {
      "text/html": [
       "<div>\n",
       "<style scoped>\n",
       "    .dataframe tbody tr th:only-of-type {\n",
       "        vertical-align: middle;\n",
       "    }\n",
       "\n",
       "    .dataframe tbody tr th {\n",
       "        vertical-align: top;\n",
       "    }\n",
       "\n",
       "    .dataframe thead th {\n",
       "        text-align: right;\n",
       "    }\n",
       "</style>\n",
       "<table border=\"1\" class=\"dataframe\">\n",
       "  <thead>\n",
       "    <tr style=\"text-align: right;\">\n",
       "      <th></th>\n",
       "      <th>Unnamed: 0</th>\n",
       "      <th>address</th>\n",
       "      <th>pills_erc20_balance_historical</th>\n",
       "      <th>lqdr_pills_balance</th>\n",
       "      <th>pills_erc20_balance_current</th>\n",
       "      <th>neo_pools_balance</th>\n",
       "      <th>beets_pills_balance</th>\n",
       "    </tr>\n",
       "  </thead>\n",
       "  <tbody>\n",
       "    <tr>\n",
       "      <th>0</th>\n",
       "      <td>0</td>\n",
       "      <td>0x9C775D3D66167685B2A3F4567B548567D2875350</td>\n",
       "      <td>2.415931e+06</td>\n",
       "      <td>0.0</td>\n",
       "      <td>281012.897854</td>\n",
       "      <td>0.0</td>\n",
       "      <td>0.0</td>\n",
       "    </tr>\n",
       "  </tbody>\n",
       "</table>\n",
       "</div>"
      ],
      "text/plain": [
       "   Unnamed: 0                                     address  \\\n",
       "0           0  0x9C775D3D66167685B2A3F4567B548567D2875350   \n",
       "\n",
       "   pills_erc20_balance_historical  lqdr_pills_balance  \\\n",
       "0                    2.415931e+06                 0.0   \n",
       "\n",
       "   pills_erc20_balance_current  neo_pools_balance  beets_pills_balance  \n",
       "0                281012.897854                0.0                  0.0  "
      ]
     },
     "execution_count": 78,
     "metadata": {},
     "output_type": "execute_result"
    }
   ],
   "source": [
    "import json\n",
    "from pprint import pprint\n",
    "import pandas as pd\n",
    "df = pd.read_csv('data/pills-snapshot.csv')\n",
    "df.head(1)"
   ]
  },
  {
   "cell_type": "markdown",
   "id": "7f7db5ad-19fd-421b-8af2-1f995d0cd70f",
   "metadata": {},
   "source": [
    "We begin with the total circulating supply of PILLS at the time of the snapshot."
   ]
  },
  {
   "cell_type": "code",
   "execution_count": 79,
   "id": "40277e5d-e081-4fbe-9d02-ee759f1da0ee",
   "metadata": {},
   "outputs": [
    {
     "data": {
      "text/plain": [
       "6714972.014113384"
      ]
     },
     "execution_count": 79,
     "metadata": {},
     "output_type": "execute_result"
    }
   ],
   "source": [
    "df['pills_erc20_balance_historical'].sum()"
   ]
  },
  {
   "cell_type": "markdown",
   "id": "057d7e88-9a0a-4338-915b-5e5e98deb79c",
   "metadata": {},
   "source": [
    "Out of the circulating supply, a substantial proportion of PILLS were transferred to contracts.\n",
    "Any PILLS in a contract (Neo pools, Spirit+LQDR, Beets) were therefore no longer controlled by a \"wallet\" address.\n",
    "We've inspected those specific contracts to connect wallet addresses with the PILLS staked in those contracts.\n",
    "We will remove those contracts from the snapshot; they are not wallet addresses and we've attributed their balances to real wallets."
   ]
  },
  {
   "cell_type": "code",
   "execution_count": 86,
   "id": "8afd08ff-9d13-4f2a-a98b-aee0ff8fc629",
   "metadata": {
    "tags": []
   },
   "outputs": [],
   "source": [
    "# remove Spirit LP balance\n",
    "df = df[df.address != '0x9C775D3D66167685B2A3F4567B548567D2875350']\n",
    "\n",
    "# remove all Neo Pools\n",
    "with open('data/neo-pools.json', 'r') as f:\n",
    "    neo_pool_addresses = json.load(f)\n",
    "neo_pool_addresses.reverse()\n",
    "neo_pool_addresses = [ i['address'] for i in neo_pool_addresses ]\n",
    "df = df[~df.address.isin(neo_pool_addresses)]\n",
    "\n",
    "# the Neo Pools balance in any pool prior to the continuous Neo Pools\n",
    "other_neo_pool_total = 336780.609907302\n",
    "\n",
    "# remove Beets balance\n",
    "df = df[df.address != '0x20dd72Ed959b6147912C2e529F0a0C651c33c9ce']\n",
    "\n",
    "pills_for_airdrop = df['pills_erc20_balance_historical'].sum() + \\\n",
    "    df['neo_pools_balance'].sum() + \\\n",
    "    df['lqdr_pills_balance'].sum() + \\\n",
    "    df['beets_pills_balance'].sum()"
   ]
  },
  {
   "cell_type": "markdown",
   "id": "d41f4079-95a9-415e-bcf9-c0e40c48a637",
   "metadata": {},
   "source": [
    "Total PILLS controlled by an address is given by the sum of all columns except pills_erc20_balance_current.\n",
    "Double-check that the total matches circulating supply."
   ]
  },
  {
   "cell_type": "code",
   "execution_count": 87,
   "id": "e9832ebe-d4ce-4ea3-9fe5-1debc5b76820",
   "metadata": {},
   "outputs": [
    {
     "data": {
      "text/plain": [
       "6714972.014113386"
      ]
     },
     "execution_count": 87,
     "metadata": {},
     "output_type": "execute_result"
    }
   ],
   "source": [
    "df['total'] = df['pills_erc20_balance_historical'] + \\\n",
    "    df['neo_pools_balance'] + \\\n",
    "    df['lqdr_pills_balance'] + \\\n",
    "    df['beets_pills_balance']\n",
    "\n",
    "df['total'].sum() + other_neo_pool_total"
   ]
  },
  {
   "cell_type": "markdown",
   "id": "a1a8f1fb-a673-4e80-b4e7-577e0a851673",
   "metadata": {},
   "source": [
    "Compute proportions for airdrop. Double-check that proportion assigned is 100%."
   ]
  },
  {
   "cell_type": "code",
   "execution_count": 89,
   "id": "ca1e0300-2b34-4534-b868-5a1c73c29095",
   "metadata": {},
   "outputs": [
    {
     "data": {
      "text/plain": [
       "1.0"
      ]
     },
     "execution_count": 89,
     "metadata": {},
     "output_type": "execute_result"
    }
   ],
   "source": [
    "df['proportion'] = df['total'] / pills_for_airdrop\n",
    "df['proportion'].sum()"
   ]
  },
  {
   "cell_type": "code",
   "execution_count": 91,
   "id": "aa8771b8-d9cb-47a9-a42f-6d1c9a2c0ec6",
   "metadata": {},
   "outputs": [
    {
     "data": {
      "text/html": [
       "<div>\n",
       "<style scoped>\n",
       "    .dataframe tbody tr th:only-of-type {\n",
       "        vertical-align: middle;\n",
       "    }\n",
       "\n",
       "    .dataframe tbody tr th {\n",
       "        vertical-align: top;\n",
       "    }\n",
       "\n",
       "    .dataframe thead th {\n",
       "        text-align: right;\n",
       "    }\n",
       "</style>\n",
       "<table border=\"1\" class=\"dataframe\">\n",
       "  <thead>\n",
       "    <tr style=\"text-align: right;\">\n",
       "      <th></th>\n",
       "      <th>address</th>\n",
       "      <th>proportion</th>\n",
       "    </tr>\n",
       "  </thead>\n",
       "  <tbody>\n",
       "    <tr>\n",
       "      <th>1</th>\n",
       "      <td>0xF04588329c3104779796F279A9df3803Ae83dB7B</td>\n",
       "      <td>7.942674e-03</td>\n",
       "    </tr>\n",
       "    <tr>\n",
       "      <th>3</th>\n",
       "      <td>0x2728e32174FC95De00695007c9134fA03dC8b434</td>\n",
       "      <td>8.368566e-03</td>\n",
       "    </tr>\n",
       "    <tr>\n",
       "      <th>4</th>\n",
       "      <td>0xD488F4585Ab28D003324253be5D791aC103c0b57</td>\n",
       "      <td>1.368727e-22</td>\n",
       "    </tr>\n",
       "    <tr>\n",
       "      <th>5</th>\n",
       "      <td>0x4BC4Da7839a3c987D44F0DBDAcBDd1f53243Ba24</td>\n",
       "      <td>0.000000e+00</td>\n",
       "    </tr>\n",
       "    <tr>\n",
       "      <th>6</th>\n",
       "      <td>0xD3743Ec801f157FBfF93FcC813fdBA231026cBF2</td>\n",
       "      <td>0.000000e+00</td>\n",
       "    </tr>\n",
       "  </tbody>\n",
       "</table>\n",
       "</div>"
      ],
      "text/plain": [
       "                                      address    proportion\n",
       "1  0xF04588329c3104779796F279A9df3803Ae83dB7B  7.942674e-03\n",
       "3  0x2728e32174FC95De00695007c9134fA03dC8b434  8.368566e-03\n",
       "4  0xD488F4585Ab28D003324253be5D791aC103c0b57  1.368727e-22\n",
       "5  0x4BC4Da7839a3c987D44F0DBDAcBDd1f53243Ba24  0.000000e+00\n",
       "6  0xD3743Ec801f157FBfF93FcC813fdBA231026cBF2  0.000000e+00"
      ]
     },
     "execution_count": 91,
     "metadata": {},
     "output_type": "execute_result"
    }
   ],
   "source": [
    "df_proportion = df[['address', 'proportion']]\n",
    "df_proportion.to_csv('data/airdrop.csv', index=False)\n",
    "df_proportion.head()"
   ]
  }
 ],
 "metadata": {
  "kernelspec": {
   "display_name": "Python 3 (ipykernel)",
   "language": "python",
   "name": "python3"
  },
  "language_info": {
   "codemirror_mode": {
    "name": "ipython",
    "version": 3
   },
   "file_extension": ".py",
   "mimetype": "text/x-python",
   "name": "python",
   "nbconvert_exporter": "python",
   "pygments_lexer": "ipython3",
   "version": "3.10.9"
  }
 },
 "nbformat": 4,
 "nbformat_minor": 5
}
