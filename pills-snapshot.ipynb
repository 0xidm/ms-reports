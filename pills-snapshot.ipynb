{
 "cells": [
  {
   "cell_type": "markdown",
   "id": "c09e2324-90ef-41e7-812c-a9de7c42b9a9",
   "metadata": {},
   "source": [
    "# Draft PILLS Snapshot\n",
    "\n",
    "This notebook combines historical PILLS balances into a single data frame, including Liquid Driver, Beets, and the 2 most recent Neo Pools.\n",
    "These values are explained in a separate notebook.\n",
    "\n",
    "The notebook also includes PILLS balances, current as of December 6, 2022."
   ]
  },
  {
   "cell_type": "code",
   "execution_count": 1,
   "id": "a2d1f1f2-f614-42a5-850d-6ae36d54fca8",
   "metadata": {},
   "outputs": [
    {
     "data": {
      "text/plain": [
       "True"
      ]
     },
     "execution_count": 1,
     "metadata": {},
     "output_type": "execute_result"
    }
   ],
   "source": [
    "import os\n",
    "import json\n",
    "import time\n",
    "from pprint import pprint\n",
    "from dotenv import load_dotenv\n",
    "import pandas as pd\n",
    "import web3\n",
    "\n",
    "load_dotenv(os.path.expanduser('~/Work/morpheus-swap/.env'))"
   ]
  },
  {
   "cell_type": "markdown",
   "id": "5bee7011-dc5b-428d-af6e-431243cb5ce9",
   "metadata": {},
   "source": [
    "## Neo Pool contract addresses"
   ]
  },
  {
   "cell_type": "code",
   "execution_count": 2,
   "id": "278ffdd7-d90d-424f-a2b0-765d3233a4db",
   "metadata": {},
   "outputs": [
    {
     "name": "stdout",
     "output_type": "stream",
     "text": [
      "['0x5bcb5f2ed10ac292c9e281c5ead4f0533666c3b6',\n",
      " '0x326A7D91B6F767458599E7d93DFc850d2e083d30',\n",
      " '0xA431fDd6d23f0d7C4b4B92F4aD866a5939b53abB']\n"
     ]
    }
   ],
   "source": [
    "with open(os.path.join(os.environ['DATA_PATH'], 'neo-pools.json'), 'r') as f:\n",
    "    neo_pool_addresses = json.load(f)\n",
    "neo_pool_addresses.reverse()\n",
    "neo_pool_addresses = [ i['address'] for i in neo_pool_addresses ]\n",
    "pprint(neo_pool_addresses[:3])"
   ]
  },
  {
   "cell_type": "markdown",
   "id": "f6a423bc-fd63-46c4-a7f9-add98b8629e3",
   "metadata": {},
   "source": [
    "## Contract balances and call() results"
   ]
  },
  {
   "cell_type": "code",
   "execution_count": 3,
   "id": "4abd4bc8-a78e-440a-b51a-a8f694fbfd69",
   "metadata": {},
   "outputs": [
    {
     "data": {
      "text/html": [
       "<div>\n",
       "<style scoped>\n",
       "    .dataframe tbody tr th:only-of-type {\n",
       "        vertical-align: middle;\n",
       "    }\n",
       "\n",
       "    .dataframe tbody tr th {\n",
       "        vertical-align: top;\n",
       "    }\n",
       "\n",
       "    .dataframe thead th {\n",
       "        text-align: right;\n",
       "    }\n",
       "</style>\n",
       "<table border=\"1\" class=\"dataframe\">\n",
       "  <thead>\n",
       "    <tr style=\"text-align: right;\">\n",
       "      <th></th>\n",
       "      <th>address</th>\n",
       "      <th>pills_erc20_balance_historical</th>\n",
       "      <th>beets_lp_erc20_balance</th>\n",
       "      <th>neo_pool_0_amount</th>\n",
       "      <th>neo_pool_0_reward_debt</th>\n",
       "      <th>neo_pool_1_amount</th>\n",
       "      <th>neo_pool_1_reward_debt</th>\n",
       "      <th>spirit_amount</th>\n",
       "      <th>spirit_reward_debt</th>\n",
       "    </tr>\n",
       "  </thead>\n",
       "  <tbody>\n",
       "    <tr>\n",
       "      <th>0</th>\n",
       "      <td>0x9C775D3D66167685B2A3F4567B548567D2875350</td>\n",
       "      <td>2.415931e+06</td>\n",
       "      <td>0.0</td>\n",
       "      <td>0.0</td>\n",
       "      <td>0.0</td>\n",
       "      <td>0.0</td>\n",
       "      <td>0.0</td>\n",
       "      <td>0.0</td>\n",
       "      <td>0.0</td>\n",
       "    </tr>\n",
       "  </tbody>\n",
       "</table>\n",
       "</div>"
      ],
      "text/plain": [
       "                                      address  pills_erc20_balance_historical  \\\n",
       "0  0x9C775D3D66167685B2A3F4567B548567D2875350                    2.415931e+06   \n",
       "\n",
       "   beets_lp_erc20_balance  neo_pool_0_amount  neo_pool_0_reward_debt  \\\n",
       "0                     0.0                0.0                     0.0   \n",
       "\n",
       "   neo_pool_1_amount  neo_pool_1_reward_debt  spirit_amount  \\\n",
       "0                0.0                     0.0            0.0   \n",
       "\n",
       "   spirit_reward_debt  \n",
       "0                 0.0  "
      ]
     },
     "execution_count": 3,
     "metadata": {},
     "output_type": "execute_result"
    }
   ],
   "source": [
    "df_contracts = pd.read_csv(os.path.join(os.environ['DATA_PATH'], '2022-04-20-pills-contracts.csv.gz'))\n",
    "df_contracts.rename(columns={'pills_erc20_balance': 'pills_erc20_balance_historical'}, inplace=True)\n",
    "df_contracts.head(1)"
   ]
  },
  {
   "cell_type": "markdown",
   "id": "d6e673b0-3039-4cd7-a393-677398372920",
   "metadata": {},
   "source": [
    "## Merge in LQDR contract results"
   ]
  },
  {
   "cell_type": "code",
   "execution_count": 4,
   "id": "64465af9-ec60-4ac3-8f56-65f022fd3465",
   "metadata": {},
   "outputs": [
    {
     "data": {
      "text/html": [
       "<div>\n",
       "<style scoped>\n",
       "    .dataframe tbody tr th:only-of-type {\n",
       "        vertical-align: middle;\n",
       "    }\n",
       "\n",
       "    .dataframe tbody tr th {\n",
       "        vertical-align: top;\n",
       "    }\n",
       "\n",
       "    .dataframe thead th {\n",
       "        text-align: right;\n",
       "    }\n",
       "</style>\n",
       "<table border=\"1\" class=\"dataframe\">\n",
       "  <thead>\n",
       "    <tr style=\"text-align: right;\">\n",
       "      <th></th>\n",
       "      <th>address</th>\n",
       "      <th>pills_erc20_balance_historical</th>\n",
       "      <th>beets_lp_erc20_balance</th>\n",
       "      <th>neo_pool_0_amount</th>\n",
       "      <th>neo_pool_0_reward_debt</th>\n",
       "      <th>neo_pool_1_amount</th>\n",
       "      <th>neo_pool_1_reward_debt</th>\n",
       "      <th>spirit_amount</th>\n",
       "      <th>spirit_reward_debt</th>\n",
       "      <th>lqdr_lp_amount</th>\n",
       "    </tr>\n",
       "  </thead>\n",
       "  <tbody>\n",
       "    <tr>\n",
       "      <th>0</th>\n",
       "      <td>0x9C775D3D66167685B2A3F4567B548567D2875350</td>\n",
       "      <td>2.415931e+06</td>\n",
       "      <td>0.0</td>\n",
       "      <td>0.0</td>\n",
       "      <td>0.0</td>\n",
       "      <td>0.0</td>\n",
       "      <td>0.0</td>\n",
       "      <td>0.0</td>\n",
       "      <td>0.0</td>\n",
       "      <td>0.0</td>\n",
       "    </tr>\n",
       "  </tbody>\n",
       "</table>\n",
       "</div>"
      ],
      "text/plain": [
       "                                      address  pills_erc20_balance_historical  \\\n",
       "0  0x9C775D3D66167685B2A3F4567B548567D2875350                    2.415931e+06   \n",
       "\n",
       "   beets_lp_erc20_balance  neo_pool_0_amount  neo_pool_0_reward_debt  \\\n",
       "0                     0.0                0.0                     0.0   \n",
       "\n",
       "   neo_pool_1_amount  neo_pool_1_reward_debt  spirit_amount  \\\n",
       "0                0.0                     0.0            0.0   \n",
       "\n",
       "   spirit_reward_debt  lqdr_lp_amount  \n",
       "0                 0.0             0.0  "
      ]
     },
     "execution_count": 4,
     "metadata": {},
     "output_type": "execute_result"
    }
   ],
   "source": [
    "df_lqdr = pd.read_csv(os.path.join(os.environ['DATA_PATH'], 'lqdr-pills-gauge-balance.csv'))\n",
    "del df_lqdr['Unnamed: 0']\n",
    "df_lqdr.rename(columns={'balance': 'lqdr_lp_amount'}, inplace=True)\n",
    "df_lqdr.head(1)\n",
    "df_snapshot = pd.merge(df_contracts, df_lqdr, on='address')\n",
    "df_snapshot.head(1)"
   ]
  },
  {
   "cell_type": "markdown",
   "id": "7045c43d-427f-42c2-ad64-bbe063d0851f",
   "metadata": {},
   "source": [
    "## Unpack current PILLS balances from chaino parallel tasks"
   ]
  },
  {
   "cell_type": "code",
   "execution_count": 5,
   "id": "e246485f-a1c3-4369-bde4-10b202db00be",
   "metadata": {},
   "outputs": [
    {
     "data": {
      "text/html": [
       "<div>\n",
       "<style scoped>\n",
       "    .dataframe tbody tr th:only-of-type {\n",
       "        vertical-align: middle;\n",
       "    }\n",
       "\n",
       "    .dataframe tbody tr th {\n",
       "        vertical-align: top;\n",
       "    }\n",
       "\n",
       "    .dataframe thead th {\n",
       "        text-align: right;\n",
       "    }\n",
       "</style>\n",
       "<table border=\"1\" class=\"dataframe\">\n",
       "  <thead>\n",
       "    <tr style=\"text-align: right;\">\n",
       "      <th></th>\n",
       "      <th>address</th>\n",
       "      <th>pills_erc20_balance_current</th>\n",
       "    </tr>\n",
       "  </thead>\n",
       "  <tbody>\n",
       "    <tr>\n",
       "      <th>0</th>\n",
       "      <td>0x9C775D3D66167685B2A3F4567B548567D2875350</td>\n",
       "      <td>281012.897854</td>\n",
       "    </tr>\n",
       "  </tbody>\n",
       "</table>\n",
       "</div>"
      ],
      "text/plain": [
       "                                      address  pills_erc20_balance_current\n",
       "0  0x9C775D3D66167685B2A3F4567B548567D2875350                281012.897854"
      ]
     },
     "execution_count": 5,
     "metadata": {},
     "output_type": "execute_result"
    }
   ],
   "source": [
    "filename = os.path.join(os.environ['DATA_PATH'], '2022-12-17-pills-balances-parallel.json')\n",
    "\n",
    "with open(filename, 'r') as f:\n",
    "    results_parallel = json.load(f)\n",
    "\n",
    "results_decimal = {}\n",
    "for task_id in results_parallel.keys():\n",
    "    results_decimal.update(results_parallel[task_id])\n",
    "\n",
    "results = dict([ (k,v/10**18) for k, v in results_decimal.items() ])\n",
    "\n",
    "csv_filename = os.path.join(os.environ['DATA_PATH'], '2022-12-17-pills-balances.csv')\n",
    "df_current = pd.DataFrame(results.items(), columns=['address', 'pills_erc20_balance_current'])\n",
    "df_current.head(1)"
   ]
  },
  {
   "cell_type": "markdown",
   "id": "1436a75b-74a4-4fd5-8af1-6a61c9b321b3",
   "metadata": {},
   "source": [
    "## Transform LP to PILLS"
   ]
  },
  {
   "cell_type": "code",
   "execution_count": 6,
   "id": "de3c4455-b22e-4fa0-98a3-b5d86943f5c2",
   "metadata": {},
   "outputs": [
    {
     "data": {
      "text/html": [
       "<div>\n",
       "<style scoped>\n",
       "    .dataframe tbody tr th:only-of-type {\n",
       "        vertical-align: middle;\n",
       "    }\n",
       "\n",
       "    .dataframe tbody tr th {\n",
       "        vertical-align: top;\n",
       "    }\n",
       "\n",
       "    .dataframe thead th {\n",
       "        text-align: right;\n",
       "    }\n",
       "</style>\n",
       "<table border=\"1\" class=\"dataframe\">\n",
       "  <thead>\n",
       "    <tr style=\"text-align: right;\">\n",
       "      <th></th>\n",
       "      <th>address</th>\n",
       "      <th>pills_erc20_balance_historical</th>\n",
       "      <th>pills_erc20_balance_current</th>\n",
       "      <th>neo_pools_balance</th>\n",
       "      <th>lqdr_pills_balance</th>\n",
       "      <th>beets_pills_balance</th>\n",
       "    </tr>\n",
       "  </thead>\n",
       "  <tbody>\n",
       "    <tr>\n",
       "      <th>0</th>\n",
       "      <td>0x9C775D3D66167685B2A3F4567B548567D2875350</td>\n",
       "      <td>2.415931e+06</td>\n",
       "      <td>2.810129e+05</td>\n",
       "      <td>0.000000</td>\n",
       "      <td>0.0</td>\n",
       "      <td>0.0</td>\n",
       "    </tr>\n",
       "    <tr>\n",
       "      <th>1</th>\n",
       "      <td>0xF04588329c3104779796F279A9df3803Ae83dB7B</td>\n",
       "      <td>0.000000e+00</td>\n",
       "      <td>5.150627e+03</td>\n",
       "      <td>50659.894950</td>\n",
       "      <td>0.0</td>\n",
       "      <td>0.0</td>\n",
       "    </tr>\n",
       "    <tr>\n",
       "      <th>2</th>\n",
       "      <td>0x326A7D91B6F767458599E7d93DFc850d2e083d30</td>\n",
       "      <td>2.882333e+06</td>\n",
       "      <td>1.999716e+05</td>\n",
       "      <td>0.000000</td>\n",
       "      <td>0.0</td>\n",
       "      <td>0.0</td>\n",
       "    </tr>\n",
       "    <tr>\n",
       "      <th>3</th>\n",
       "      <td>0x2728e32174FC95De00695007c9134fA03dC8b434</td>\n",
       "      <td>0.000000e+00</td>\n",
       "      <td>0.000000e+00</td>\n",
       "      <td>53376.318198</td>\n",
       "      <td>0.0</td>\n",
       "      <td>0.0</td>\n",
       "    </tr>\n",
       "    <tr>\n",
       "      <th>4</th>\n",
       "      <td>0xD488F4585Ab28D003324253be5D791aC103c0b57</td>\n",
       "      <td>8.730000e-16</td>\n",
       "      <td>8.730000e-16</td>\n",
       "      <td>0.000000</td>\n",
       "      <td>0.0</td>\n",
       "      <td>0.0</td>\n",
       "    </tr>\n",
       "  </tbody>\n",
       "</table>\n",
       "</div>"
      ],
      "text/plain": [
       "                                      address  pills_erc20_balance_historical  \\\n",
       "0  0x9C775D3D66167685B2A3F4567B548567D2875350                    2.415931e+06   \n",
       "1  0xF04588329c3104779796F279A9df3803Ae83dB7B                    0.000000e+00   \n",
       "2  0x326A7D91B6F767458599E7d93DFc850d2e083d30                    2.882333e+06   \n",
       "3  0x2728e32174FC95De00695007c9134fA03dC8b434                    0.000000e+00   \n",
       "4  0xD488F4585Ab28D003324253be5D791aC103c0b57                    8.730000e-16   \n",
       "\n",
       "   pills_erc20_balance_current  neo_pools_balance  lqdr_pills_balance  \\\n",
       "0                 2.810129e+05           0.000000                 0.0   \n",
       "1                 5.150627e+03       50659.894950                 0.0   \n",
       "2                 1.999716e+05           0.000000                 0.0   \n",
       "3                 0.000000e+00       53376.318198                 0.0   \n",
       "4                 8.730000e-16           0.000000                 0.0   \n",
       "\n",
       "   beets_pills_balance  \n",
       "0                  0.0  \n",
       "1                  0.0  \n",
       "2                  0.0  \n",
       "3                  0.0  \n",
       "4                  0.0  "
      ]
     },
     "execution_count": 6,
     "metadata": {},
     "output_type": "execute_result"
    }
   ],
   "source": [
    "csv_filename = os.path.join(os.environ['DATA_PATH'], 'pills-snapshot-draft.csv')\n",
    "lqdr_pills_per_lp = 70.2112453400694\n",
    "beets_pills_per_lp = 0.834235125170505\n",
    "\n",
    "df_snapshot = pd.merge(df_snapshot, df_current, on='address')\n",
    "df_snapshot['neo_pools_balance'] = df_snapshot['neo_pool_0_amount'] + df_snapshot['neo_pool_1_amount']\n",
    "df_snapshot['lqdr_pills_balance'] = df_snapshot['lqdr_lp_amount'] * lqdr_pills_per_lp\n",
    "df_snapshot['beets_pills_balance'] = df_snapshot['beets_lp_erc20_balance'] * beets_pills_per_lp\n",
    "\n",
    "del df_snapshot['beets_lp_erc20_balance']\n",
    "del df_snapshot['lqdr_lp_amount']\n",
    "del df_snapshot['neo_pool_0_amount']\n",
    "del df_snapshot['neo_pool_0_reward_debt']\n",
    "del df_snapshot['neo_pool_1_amount']\n",
    "del df_snapshot['neo_pool_1_reward_debt']\n",
    "del df_snapshot['spirit_amount']\n",
    "del df_snapshot['spirit_reward_debt']\n",
    "\n",
    "df_snapshot.to_csv(csv_filename)\n",
    "df_snapshot.head(5)"
   ]
  },
  {
   "cell_type": "markdown",
   "id": "f6768f97-db79-4b0a-a7f6-3a97995619e6",
   "metadata": {},
   "source": [
    "## Check that wallet total matches Sankey\n",
    "\n",
    "The two most recent Neo pools were included in the snapshot.  A total of 336k pills were staked in other neo pools at the time of the snapshot."
   ]
  },
  {
   "cell_type": "code",
   "execution_count": 7,
   "id": "95702498-45fe-4ec6-9e61-2433ad2645cc",
   "metadata": {},
   "outputs": [
    {
     "data": {
      "text/plain": [
       "850364.1993269545"
      ]
     },
     "execution_count": 7,
     "metadata": {},
     "output_type": "execute_result"
    }
   ],
   "source": [
    "other_neo_pool_total = 336780.609907302\n",
    "\n",
    "df = df_snapshot.copy()\n",
    "wallet_total = df['pills_erc20_balance_historical'].sum() - \\\n",
    "    df['neo_pools_balance'].sum() - \\\n",
    "    df['lqdr_pills_balance'].sum() - \\\n",
    "    df['beets_pills_balance'].sum() - \\\n",
    "    other_neo_pool_total\n",
    "wallet_total"
   ]
  }
 ],
 "metadata": {
  "kernelspec": {
   "display_name": "Python 3 (ipykernel)",
   "language": "python",
   "name": "python3"
  },
  "language_info": {
   "codemirror_mode": {
    "name": "ipython",
    "version": 3
   },
   "file_extension": ".py",
   "mimetype": "text/x-python",
   "name": "python",
   "nbconvert_exporter": "python",
   "pygments_lexer": "ipython3",
   "version": "3.9.15"
  }
 },
 "nbformat": 4,
 "nbformat_minor": 5
}
